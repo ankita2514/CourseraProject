{
 "cells": [
  {
   "cell_type": "markdown",
   "metadata": {},
   "source": [
    "<p style=\"text-align:center\">\n",
    "    <a href=\"https://skills.network/?utm_medium=Exinfluencer&utm_source=Exinfluencer&utm_content=000026UJ&utm_term=10006555&utm_id=NA-SkillsNetwork-Channel-SkillsNetworkCoursesIBMDeveloperSkillsNetworkPY0221ENSkillsNetwork899-2023-01-01\">\n",
    "    <img src=\"https://cf-courses-data.s3.us.cloud-object-storage.appdomain.cloud/assets/logos/SN_web_lightmode.png\" width=\"200\" alt=\"Skills Network Logo\"  />\n",
    "    </a>\n",
    "</p>\n"
   ]
  },
  {
   "cell_type": "markdown",
   "metadata": {},
   "source": [
    "# Peer Review Assignment - Data Engineer - Extract API Data\n"
   ]
  },
  {
   "cell_type": "markdown",
   "metadata": {},
   "source": [
    "Estimated time needed: **20** minutes\n"
   ]
  },
  {
   "cell_type": "markdown",
   "metadata": {},
   "source": [
    "## Objectives\n",
    "\n",
    "In this part you will:\n",
    "\n",
    "-   Collect exchange rate data using an API\n",
    "-   Store the data as a CSV\n"
   ]
  },
  {
   "cell_type": "markdown",
   "metadata": {},
   "source": [
    "For this lab, we are going to be using Python and several Python libraries. Some of these libraries might be installed in your lab environment or in SN Labs. Others may need to be installed by you. The cells below will install these libraries when executed.\n"
   ]
  },
  {
   "cell_type": "code",
   "execution_count": 1,
   "metadata": {
    "tags": []
   },
   "outputs": [],
   "source": [
    "#!mamba install pandas==1.3.3 -y\n",
    "#!mamba install requests==2.26.0 -y"
   ]
  },
  {
   "cell_type": "markdown",
   "metadata": {},
   "source": [
    "## Imports\n",
    "\n",
    "Import any additional libraries you may need here.\n"
   ]
  },
  {
   "cell_type": "code",
   "execution_count": 3,
   "metadata": {
    "tags": []
   },
   "outputs": [],
   "source": [
    "import requests\n",
    "import pandas as pd\n",
    "import json"
   ]
  },
  {
   "cell_type": "markdown",
   "metadata": {},
   "source": [
    "## Extract Data Using an API\n"
   ]
  },
  {
   "cell_type": "markdown",
   "metadata": {},
   "source": [
    "Using ExchangeRate-API we will extract currency exchange rate data. Use the below steps to get the access key and to get the data. \n",
    "1. Open the url : https://exchangeratesapi.io/ and click on **Get Free API Key**. \n",
    "2. Subscribe for Free plan and Sign-in with the Google Account. \n",
    "3. Once the account is created you will be redirected to https://apilayer.com website.\n",
    "2. Now, click on the **user icon** and click **Account** as shown below:\n",
    "\n",
    "<img src=\"https://cf-courses-data.s3.us.cloud-object-storage.appdomain.cloud/IBMDeveloperSkillsNetwork-PY0221EN-SkillsNetwork/labs/module%206/Final%20Assignment/Images/account.png\">\n",
    "\n",
    "3. Scroll down and you will get the API Key section. Copy the API key and use in the url in Question 1.\n"
   ]
  },
  {
   "cell_type": "markdown",
   "metadata": {},
   "source": [
    "### Call the API\n",
    "\n",
    " <b> Question 1</b> Using the `requests` library call the endpoint given above and save the text, remember the first few characters of the output: \n"
   ]
  },
  {
   "cell_type": "code",
   "execution_count": 7,
   "metadata": {
    "tags": []
   },
   "outputs": [
    {
     "data": {
      "text/plain": [
       "{'success': True,\n",
       " 'timestamp': 1695444603,\n",
       " 'base': 'EUR',\n",
       " 'date': '2023-09-23',\n",
       " 'rates': {'AED': 3.919791,\n",
       "  'AFN': 83.866517,\n",
       "  'ALL': 106.432889,\n",
       "  'AMD': 408.634306,\n",
       "  'ANG': 1.916492,\n",
       "  'AOA': 886.825673,\n",
       "  'ARS': 373.539176,\n",
       "  'AUD': 1.656595,\n",
       "  'AWG': 1.918253,\n",
       "  'AZN': 1.81844,\n",
       "  'BAM': 1.955486,\n",
       "  'BBD': 2.147055,\n",
       "  'BDT': 116.701239,\n",
       "  'BGN': 1.955486,\n",
       "  'BHD': 0.400836,\n",
       "  'BIF': 3013.615519,\n",
       "  'BMD': 1.067178,\n",
       "  'BND': 1.452367,\n",
       "  'BOB': 7.347819,\n",
       "  'BRL': 5.249756,\n",
       "  'BSD': 1.063429,\n",
       "  'BTC': 4.0152477e-05,\n",
       "  'BTN': 88.164426,\n",
       "  'BWP': 14.487671,\n",
       "  'BYN': 2.684068,\n",
       "  'BYR': 20916.697348,\n",
       "  'BZD': 2.143455,\n",
       "  'CAD': 1.439784,\n",
       "  'CDF': 2662.610584,\n",
       "  'CHF': 0.967515,\n",
       "  'CLF': 0.034584,\n",
       "  'CLP': 954.275133,\n",
       "  'CNY': 7.787846,\n",
       "  'COP': 4203.524225,\n",
       "  'CRC': 569.908379,\n",
       "  'CUC': 1.067178,\n",
       "  'CUP': 28.280229,\n",
       "  'CVE': 110.247276,\n",
       "  'CZK': 24.462829,\n",
       "  'DJF': 189.339561,\n",
       "  'DKK': 7.471748,\n",
       "  'DOP': 60.350298,\n",
       "  'DZD': 146.530045,\n",
       "  'EGP': 32.858418,\n",
       "  'ERN': 16.007677,\n",
       "  'ETB': 58.811545,\n",
       "  'EUR': 1,\n",
       "  'FJD': 2.415068,\n",
       "  'FKP': 0.870763,\n",
       "  'GBP': 0.871949,\n",
       "  'GEL': 2.871127,\n",
       "  'GGP': 0.870763,\n",
       "  'GHS': 12.25503,\n",
       "  'GIP': 0.870763,\n",
       "  'GMD': 68.837121,\n",
       "  'GNF': 9131.531978,\n",
       "  'GTQ': 8.368655,\n",
       "  'GYD': 222.474234,\n",
       "  'HKD': 8.345816,\n",
       "  'HNL': 26.208787,\n",
       "  'HRK': 7.485946,\n",
       "  'HTG': 143.556921,\n",
       "  'HUF': 390.27824,\n",
       "  'IDR': 16388.712602,\n",
       "  'ILS': 4.063154,\n",
       "  'IMP': 0.870763,\n",
       "  'INR': 88.687906,\n",
       "  'IQD': 1392.576124,\n",
       "  'IRR': 45077.617517,\n",
       "  'ISK': 145.627581,\n",
       "  'JEP': 0.870763,\n",
       "  'JMD': 164.663528,\n",
       "  'JOD': 0.756847,\n",
       "  'JPY': 158.241629,\n",
       "  'KES': 154.965087,\n",
       "  'KGS': 94.669809,\n",
       "  'KHR': 4375.29661,\n",
       "  'KMF': 492.556617,\n",
       "  'KPW': 960.456588,\n",
       "  'KRW': 1425.382256,\n",
       "  'KWD': 0.329748,\n",
       "  'KYD': 0.886158,\n",
       "  'KZT': 505.308765,\n",
       "  'LAK': 21401.559399,\n",
       "  'LBP': 15982.630568,\n",
       "  'LKR': 344.814566,\n",
       "  'LRD': 198.926089,\n",
       "  'LSL': 20.159408,\n",
       "  'LTL': 3.151101,\n",
       "  'LVL': 0.645526,\n",
       "  'LYD': 5.182167,\n",
       "  'MAD': 10.972436,\n",
       "  'MDL': 19.34789,\n",
       "  'MGA': 4828.223795,\n",
       "  'MKD': 61.600097,\n",
       "  'MMK': 2233.140991,\n",
       "  'MNT': 3712.211996,\n",
       "  'MOP': 8.565823,\n",
       "  'MRO': 380.982518,\n",
       "  'MUR': 47.649921,\n",
       "  'MVR': 16.43854,\n",
       "  'MWK': 1151.914814,\n",
       "  'MXN': 18.3702,\n",
       "  'MYR': 5.006672,\n",
       "  'MZN': 67.498983,\n",
       "  'NAD': 20.159403,\n",
       "  'NGN': 822.264962,\n",
       "  'NIO': 38.913744,\n",
       "  'NOK': 11.481955,\n",
       "  'NPR': 141.063322,\n",
       "  'NZD': 1.791169,\n",
       "  'OMR': 0.410853,\n",
       "  'PAB': 1.063429,\n",
       "  'PEN': 3.97796,\n",
       "  'PGK': 3.92137,\n",
       "  'PHP': 60.661094,\n",
       "  'PKR': 306.519123,\n",
       "  'PLN': 4.613893,\n",
       "  'PYG': 7738.755887,\n",
       "  'QAR': 3.885638,\n",
       "  'RON': 4.979245,\n",
       "  'RSD': 117.25115,\n",
       "  'RUB': 102.773221,\n",
       "  'RWF': 1288.992776,\n",
       "  'SAR': 4.003022,\n",
       "  'SBD': 8.972989,\n",
       "  'SCR': 13.883268,\n",
       "  'SDG': 641.905694,\n",
       "  'SEK': 11.885064,\n",
       "  'SGD': 1.457663,\n",
       "  'SHP': 1.29849,\n",
       "  'SLE': 23.955199,\n",
       "  'SLL': 21076.774474,\n",
       "  'SOS': 607.76203,\n",
       "  'SSP': 641.911733,\n",
       "  'SRD': 40.964752,\n",
       "  'STD': 22088.439003,\n",
       "  'SYP': 13875.25205,\n",
       "  'SZL': 20.003784,\n",
       "  'THB': 38.386802,\n",
       "  'TJS': 11.681222,\n",
       "  'TMT': 3.735125,\n",
       "  'TND': 3.363787,\n",
       "  'TOP': 2.551094,\n",
       "  'TRY': 28.998124,\n",
       "  'TTD': 7.21384,\n",
       "  'TWD': 34.314096,\n",
       "  'TZS': 2663.771761,\n",
       "  'UAH': 39.274986,\n",
       "  'UGX': 3993.358012,\n",
       "  'USD': 1.067178,\n",
       "  'UYU': 40.62088,\n",
       "  'UZS': 12985.912333,\n",
       "  'VEF': 3616279.988235,\n",
       "  'VES': 36.162957,\n",
       "  'VND': 26009.806434,\n",
       "  'VUV': 130.193077,\n",
       "  'WST': 2.972576,\n",
       "  'XAF': 655.851563,\n",
       "  'XAG': 0.045321,\n",
       "  'XAU': 0.000554,\n",
       "  'XCD': 2.884103,\n",
       "  'XDR': 0.80637,\n",
       "  'XOF': 655.851563,\n",
       "  'XPF': 119.847975,\n",
       "  'YER': 267.141482,\n",
       "  'ZAR': 20.013907,\n",
       "  'ZMK': 9605.890369,\n",
       "  'ZMW': 22.251423,\n",
       "  'ZWL': 343.631021}}"
      ]
     },
     "execution_count": 7,
     "metadata": {},
     "output_type": "execute_result"
    }
   ],
   "source": [
    "# Write your code here\n",
    "url = \"http://api.exchangeratesapi.io/v1/latest?base=EUR&access_key=78eca55994a4e627bde466ff69698905\"   #Make sure to change ******* to your API key.\n",
    "response = requests.get(url)\n",
    "response.json()"
   ]
  },
  {
   "cell_type": "markdown",
   "metadata": {},
   "source": [
    "### Save as DataFrame\n",
    "\n",
    " <b> Question 2</b>  Using the data gathered turn it into a `pandas` dataframe. The dataframe should have the Currency as the index and `Rate` as their columns. Make sure to drop unnecessary columns.\n"
   ]
  },
  {
   "cell_type": "code",
   "execution_count": 11,
   "metadata": {
    "tags": []
   },
   "outputs": [
    {
     "data": {
      "text/html": [
       "<div>\n",
       "<style scoped>\n",
       "    .dataframe tbody tr th:only-of-type {\n",
       "        vertical-align: middle;\n",
       "    }\n",
       "\n",
       "    .dataframe tbody tr th {\n",
       "        vertical-align: top;\n",
       "    }\n",
       "\n",
       "    .dataframe thead th {\n",
       "        text-align: right;\n",
       "    }\n",
       "</style>\n",
       "<table border=\"1\" class=\"dataframe\">\n",
       "  <thead>\n",
       "    <tr style=\"text-align: right;\">\n",
       "      <th></th>\n",
       "      <th>success</th>\n",
       "      <th>timestamp</th>\n",
       "      <th>base</th>\n",
       "      <th>date</th>\n",
       "      <th>rates</th>\n",
       "    </tr>\n",
       "  </thead>\n",
       "  <tbody>\n",
       "    <tr>\n",
       "      <th>AED</th>\n",
       "      <td>True</td>\n",
       "      <td>1695444603</td>\n",
       "      <td>EUR</td>\n",
       "      <td>2023-09-23</td>\n",
       "      <td>3.919791</td>\n",
       "    </tr>\n",
       "    <tr>\n",
       "      <th>AFN</th>\n",
       "      <td>True</td>\n",
       "      <td>1695444603</td>\n",
       "      <td>EUR</td>\n",
       "      <td>2023-09-23</td>\n",
       "      <td>83.866517</td>\n",
       "    </tr>\n",
       "    <tr>\n",
       "      <th>ALL</th>\n",
       "      <td>True</td>\n",
       "      <td>1695444603</td>\n",
       "      <td>EUR</td>\n",
       "      <td>2023-09-23</td>\n",
       "      <td>106.432889</td>\n",
       "    </tr>\n",
       "    <tr>\n",
       "      <th>AMD</th>\n",
       "      <td>True</td>\n",
       "      <td>1695444603</td>\n",
       "      <td>EUR</td>\n",
       "      <td>2023-09-23</td>\n",
       "      <td>408.634306</td>\n",
       "    </tr>\n",
       "    <tr>\n",
       "      <th>ANG</th>\n",
       "      <td>True</td>\n",
       "      <td>1695444603</td>\n",
       "      <td>EUR</td>\n",
       "      <td>2023-09-23</td>\n",
       "      <td>1.916492</td>\n",
       "    </tr>\n",
       "    <tr>\n",
       "      <th>...</th>\n",
       "      <td>...</td>\n",
       "      <td>...</td>\n",
       "      <td>...</td>\n",
       "      <td>...</td>\n",
       "      <td>...</td>\n",
       "    </tr>\n",
       "    <tr>\n",
       "      <th>YER</th>\n",
       "      <td>True</td>\n",
       "      <td>1695444603</td>\n",
       "      <td>EUR</td>\n",
       "      <td>2023-09-23</td>\n",
       "      <td>267.141482</td>\n",
       "    </tr>\n",
       "    <tr>\n",
       "      <th>ZAR</th>\n",
       "      <td>True</td>\n",
       "      <td>1695444603</td>\n",
       "      <td>EUR</td>\n",
       "      <td>2023-09-23</td>\n",
       "      <td>20.013907</td>\n",
       "    </tr>\n",
       "    <tr>\n",
       "      <th>ZMK</th>\n",
       "      <td>True</td>\n",
       "      <td>1695444603</td>\n",
       "      <td>EUR</td>\n",
       "      <td>2023-09-23</td>\n",
       "      <td>9605.890369</td>\n",
       "    </tr>\n",
       "    <tr>\n",
       "      <th>ZMW</th>\n",
       "      <td>True</td>\n",
       "      <td>1695444603</td>\n",
       "      <td>EUR</td>\n",
       "      <td>2023-09-23</td>\n",
       "      <td>22.251423</td>\n",
       "    </tr>\n",
       "    <tr>\n",
       "      <th>ZWL</th>\n",
       "      <td>True</td>\n",
       "      <td>1695444603</td>\n",
       "      <td>EUR</td>\n",
       "      <td>2023-09-23</td>\n",
       "      <td>343.631021</td>\n",
       "    </tr>\n",
       "  </tbody>\n",
       "</table>\n",
       "<p>170 rows × 5 columns</p>\n",
       "</div>"
      ],
      "text/plain": [
       "     success   timestamp base        date        rates\n",
       "AED     True  1695444603  EUR  2023-09-23     3.919791\n",
       "AFN     True  1695444603  EUR  2023-09-23    83.866517\n",
       "ALL     True  1695444603  EUR  2023-09-23   106.432889\n",
       "AMD     True  1695444603  EUR  2023-09-23   408.634306\n",
       "ANG     True  1695444603  EUR  2023-09-23     1.916492\n",
       "..       ...         ...  ...         ...          ...\n",
       "YER     True  1695444603  EUR  2023-09-23   267.141482\n",
       "ZAR     True  1695444603  EUR  2023-09-23    20.013907\n",
       "ZMK     True  1695444603  EUR  2023-09-23  9605.890369\n",
       "ZMW     True  1695444603  EUR  2023-09-23    22.251423\n",
       "ZWL     True  1695444603  EUR  2023-09-23   343.631021\n",
       "\n",
       "[170 rows x 5 columns]"
      ]
     },
     "execution_count": 11,
     "metadata": {},
     "output_type": "execute_result"
    }
   ],
   "source": [
    "# Turn the data into a dataframe\n",
    "\n",
    "dataframe = pd.DataFrame(response.json())\n",
    "dataframe"
   ]
  },
  {
   "cell_type": "code",
   "execution_count": 13,
   "metadata": {
    "tags": []
   },
   "outputs": [
    {
     "data": {
      "text/html": [
       "<div>\n",
       "<style scoped>\n",
       "    .dataframe tbody tr th:only-of-type {\n",
       "        vertical-align: middle;\n",
       "    }\n",
       "\n",
       "    .dataframe tbody tr th {\n",
       "        vertical-align: top;\n",
       "    }\n",
       "\n",
       "    .dataframe thead th {\n",
       "        text-align: right;\n",
       "    }\n",
       "</style>\n",
       "<table border=\"1\" class=\"dataframe\">\n",
       "  <thead>\n",
       "    <tr style=\"text-align: right;\">\n",
       "      <th></th>\n",
       "      <th>rates</th>\n",
       "    </tr>\n",
       "  </thead>\n",
       "  <tbody>\n",
       "    <tr>\n",
       "      <th>AED</th>\n",
       "      <td>3.919791</td>\n",
       "    </tr>\n",
       "    <tr>\n",
       "      <th>AFN</th>\n",
       "      <td>83.866517</td>\n",
       "    </tr>\n",
       "    <tr>\n",
       "      <th>ALL</th>\n",
       "      <td>106.432889</td>\n",
       "    </tr>\n",
       "    <tr>\n",
       "      <th>AMD</th>\n",
       "      <td>408.634306</td>\n",
       "    </tr>\n",
       "    <tr>\n",
       "      <th>ANG</th>\n",
       "      <td>1.916492</td>\n",
       "    </tr>\n",
       "    <tr>\n",
       "      <th>...</th>\n",
       "      <td>...</td>\n",
       "    </tr>\n",
       "    <tr>\n",
       "      <th>YER</th>\n",
       "      <td>267.141482</td>\n",
       "    </tr>\n",
       "    <tr>\n",
       "      <th>ZAR</th>\n",
       "      <td>20.013907</td>\n",
       "    </tr>\n",
       "    <tr>\n",
       "      <th>ZMK</th>\n",
       "      <td>9605.890369</td>\n",
       "    </tr>\n",
       "    <tr>\n",
       "      <th>ZMW</th>\n",
       "      <td>22.251423</td>\n",
       "    </tr>\n",
       "    <tr>\n",
       "      <th>ZWL</th>\n",
       "      <td>343.631021</td>\n",
       "    </tr>\n",
       "  </tbody>\n",
       "</table>\n",
       "<p>170 rows × 1 columns</p>\n",
       "</div>"
      ],
      "text/plain": [
       "           rates\n",
       "AED     3.919791\n",
       "AFN    83.866517\n",
       "ALL   106.432889\n",
       "AMD   408.634306\n",
       "ANG     1.916492\n",
       "..           ...\n",
       "YER   267.141482\n",
       "ZAR    20.013907\n",
       "ZMK  9605.890369\n",
       "ZMW    22.251423\n",
       "ZWL   343.631021\n",
       "\n",
       "[170 rows x 1 columns]"
      ]
     },
     "execution_count": 13,
     "metadata": {},
     "output_type": "execute_result"
    }
   ],
   "source": [
    "# Drop unnescessary columns\n",
    "dataframe = dataframe.drop(columns=['timestamp', 'base', 'date', 'success'])\n",
    "dataframe"
   ]
  },
  {
   "cell_type": "markdown",
   "metadata": {},
   "source": [
    "### Load the Data\n",
    "\n",
    "Using the dataframe save it as a CSV names `exchange_rates_1.csv`.\n"
   ]
  },
  {
   "cell_type": "code",
   "execution_count": 14,
   "metadata": {
    "tags": []
   },
   "outputs": [],
   "source": [
    "# Save the Dataframe\n",
    "dataframe.to_csv('exchange_rates_1.csv')"
   ]
  },
  {
   "cell_type": "markdown",
   "metadata": {},
   "source": [
    "Your CSV should be in this format with more currencies\n",
    "\n",
    "| | Rates |\n",
    "| ------- | ------- |\n",
    "|  AED| 4.398618    |\n",
    "|  AFN| 92.917693   |  \n",
    "|  ALL| 123.099093  |\n",
    "|  AMD| 621.935674  |\n",
    "|  ANG| 2.149648    | \n"
   ]
  },
  {
   "cell_type": "markdown",
   "metadata": {},
   "source": [
    "## Authors\n"
   ]
  },
  {
   "cell_type": "markdown",
   "metadata": {},
   "source": [
    "Ramesh Sannareddy, Joseph Santarcangelo and Azim Hirjani\n"
   ]
  },
  {
   "cell_type": "markdown",
   "metadata": {},
   "source": [
    "### Other Contributors\n"
   ]
  },
  {
   "cell_type": "markdown",
   "metadata": {},
   "source": [
    "Rav Ahuja\n"
   ]
  },
  {
   "cell_type": "markdown",
   "metadata": {},
   "source": [
    "## Change Log\n"
   ]
  },
  {
   "cell_type": "markdown",
   "metadata": {},
   "source": [
    "| Date (YYYY-MM-DD) | Version | Changed By        | Change Description                 |\n",
    "| ----------------- | ------- | ----------------- | ---------------------------------- |\n",
    "| 2022-05-06        | 0.3     | Malika            | Updated instructions to get the API and the url|\n",
    "| 2021-04-15        | 0.2     | Malika            | Updated the lab from USD to EUR    |\n",
    "| 2020-11-25        | 0.1     | Ramesh Sannareddy | Created initial version of the lab |\n"
   ]
  },
  {
   "cell_type": "markdown",
   "metadata": {},
   "source": [
    " Copyright © 2020 IBM Corporation. This notebook and its source code are released under the terms of the [MIT License](https://cognitiveclass.ai/mit-license?utm_medium=Exinfluencer&utm_source=Exinfluencer&utm_content=000026UJ&utm_term=10006555&utm_id=NA-SkillsNetwork-Channel-SkillsNetworkCoursesIBMDeveloperSkillsNetworkPY0221ENSkillsNetwork899-2023-01-01&cm_mmc=Email_Newsletter-_-Developer_Ed%2BTech-_-WW_WW-_-SkillsNetwork-Courses-IBM-DA0321EN-SkillsNetwork-21426264&cm_mmca1=000026UJ&cm_mmca2=10006555&cm_mmca3=M12345678&cvosrc=email.Newsletter.M12345678&cvo_campaign=000026UJ).\n"
   ]
  }
 ],
 "metadata": {
  "kernelspec": {
   "display_name": "Python",
   "language": "python",
   "name": "conda-env-python-py"
  },
  "language_info": {
   "codemirror_mode": {
    "name": "ipython",
    "version": 3
   },
   "file_extension": ".py",
   "mimetype": "text/x-python",
   "name": "python",
   "nbconvert_exporter": "python",
   "pygments_lexer": "ipython3",
   "version": "3.7.12"
  }
 },
 "nbformat": 4,
 "nbformat_minor": 4
}
